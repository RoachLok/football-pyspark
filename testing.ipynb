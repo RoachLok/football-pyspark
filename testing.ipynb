{
 "cells": [
  {
   "cell_type": "code",
   "execution_count": 4,
   "metadata": {},
   "outputs": [],
   "source": [
    "\n",
    "from flask import Flask, make_response, request\n",
    "from flask_caching import Cache\n",
    "from pyspark.sql import SparkSession, DataFrame, DataFrameReader\n",
    "from pyspark.sql.types import StructType, StructField, IntegerType, StringType, FloatType\n",
    "from pyspark.sql.functions import col, last, sum, avg, count\n",
    "\n",
    "from util.databridge import Databridge\n",
    "from transform.penalty_cards_agg import penalty_cards_agg\n",
    "import schema.data_structs as schema\n",
    "import data.paths as data_routes\n"
   ]
  },
  {
   "cell_type": "code",
   "execution_count": null,
   "metadata": {},
   "outputs": [],
   "source": [
    "data = Databridge(data_location='local[8]', name='API')\n",
    "reader = data.get_reader()\n",
    "\n",
    "data.add_dataframes([\n",
    "    (\n",
    "        reader.csv(\n",
    "            data_routes.trmkt_appearences,\n",
    "            header=True,\n",
    "            schema=schema.trmkt_appearences\n",
    "        ),\n",
    "        'trmkt_appearences'\n",
    "    ),\n",
    "    (\n",
    "        reader.csv(\n",
    "            data_routes.trmkt_clubs,\n",
    "            header=True,\n",
    "            schema=schema.trmkt_clubs\n",
    "        ),\n",
    "        'trmkt_clubs'\n",
    "    ),\n",
    "    (\n",
    "        reader.csv(\n",
    "            data_routes.trmkt_competitions,\n",
    "            header=True,\n",
    "            schema=schema.trmkt_competitions\n",
    "        ),\n",
    "        'trmkt_competitions'\n",
    "    ),   \n",
    "    (\n",
    "        reader.csv(\n",
    "            data_routes.trmkt_games,\n",
    "            header=True,\n",
    "            schema=schema.trmkt_games\n",
    "        ),\n",
    "        'trmkt_games'\n",
    "    ),\n",
    "    (\n",
    "        reader.csv(\n",
    "            data_routes.trmkt_leagues,\n",
    "            header=True,\n",
    "            schema=schema.trmkt_leagues\n",
    "        ),\n",
    "        'trmkt_leagues'\n",
    "    ),\n",
    "    (\n",
    "        reader.csv(\n",
    "            data_routes.trmkt_players,\n",
    "            header=True,\n",
    "            schema=schema.trmkt_players\n",
    "        ),\n",
    "        'trmkt_players'\n",
    "    ),\n",
    "])\n",
    "\n",
    "for df, key in data.get_dataframes():\n",
    "    df.printSchema()\n"
   ]
  },
  {
   "cell_type": "code",
   "execution_count": null,
   "metadata": {},
   "outputs": [],
   "source": [
    "import json \n",
    "\n",
    "player_app_df = data.join_stored('trmkt_appearences', 'trmkt_players', 'player_id')\n",
    "\n",
    "sums = [\n",
    "    sum(\"yellow_cards\"), \n",
    "    sum('red_cards'),\n",
    "]\n",
    "\n",
    "str_list = player_app_df.select(\n",
    "    'player_id',\n",
    "    'yellow_cards',\n",
    "    'red_cards',\n",
    "    'minutes_played',\n",
    "    'position',\n",
    "    'sub_position'\n",
    ").where('position == \"Defender\"') \\\n",
    ".groupBy('player_id') \\\n",
    ".agg(\n",
    "    last('position'),\n",
    "    last('sub_position'), \n",
    "    *sums,\n",
    "    avg('minutes_played'),\n",
    "    count('player_id').alias('n_games')\n",
    ").orderBy('sum(yellow_cards)', ascending=False).toPandas().set_index(\"player_id\").to_json(orient=\"index\")\n",
    "\n",
    "str_list[:200]\n",
    "\n"
   ]
  },
  {
   "cell_type": "code",
   "execution_count": null,
   "metadata": {},
   "outputs": [],
   "source": [
    "json_str = '['+','.join(str_list)+']'\n",
    "\n",
    "json_obj = json.loads(json_str)\n",
    "\n"
   ]
  },
  {
   "cell_type": "code",
   "execution_count": null,
   "metadata": {},
   "outputs": [],
   "source": [
    "test = [\n",
    "    (\"asd\", 123),\n",
    "    (\"ad\", 23),\n",
    "    (\"sd\", 12),\n",
    "    (\"as\", 13),\n",
    "]\n",
    "\n",
    "for id, num in test:\n",
    "    print(id, num)"
   ]
  },
  {
   "cell_type": "code",
   "execution_count": null,
   "metadata": {},
   "outputs": [],
   "source": [
    "mape = {\n",
    "    \"id\"    : 12,\n",
    "    \"as\"    : 213,\n",
    "    \"asdd\"  : 123    \n",
    "}\n",
    "\n",
    "[(thing, mape[thing]) for thing in mape]\n"
   ]
  }
 ],
 "metadata": {
  "kernelspec": {
   "display_name": "football-spark-venv",
   "language": "python",
   "name": "football-spark-venv"
  },
  "language_info": {
   "codemirror_mode": {
    "name": "ipython",
    "version": 3
   },
   "file_extension": ".py",
   "mimetype": "text/x-python",
   "name": "python",
   "nbconvert_exporter": "python",
   "pygments_lexer": "ipython3",
   "version": "3.10.5"
  },
  "orig_nbformat": 4,
  "vscode": {
   "interpreter": {
    "hash": "6f0bd03cbeb5a1636823079604d3f3fdd20cac66e4b3baf84d6a6f3fe8cf4933"
   }
  }
 },
 "nbformat": 4,
 "nbformat_minor": 2
}
