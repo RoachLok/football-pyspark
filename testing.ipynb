{
 "cells": [
  {
   "cell_type": "code",
   "execution_count": 1,
   "metadata": {},
   "outputs": [
    {
     "ename": "AnalysisException",
     "evalue": "Path does not exist: file:/c:/Users/jtabo/Documents/sandbox/python/pySpark/furboh/cards.csv",
     "output_type": "error",
     "traceback": [
      "\u001b[1;31m---------------------------------------------------------------------------\u001b[0m",
      "\u001b[1;31mAnalysisException\u001b[0m                         Traceback (most recent call last)",
      "\u001b[1;32mc:\\Users\\jtabo\\Documents\\sandbox\\python\\pySpark\\furboh\\testing.ipynb Cell 1'\u001b[0m in \u001b[0;36m<cell line: 7>\u001b[1;34m()\u001b[0m\n\u001b[0;32m      <a href='vscode-notebook-cell:/c%3A/Users/jtabo/Documents/sandbox/python/pySpark/furboh/testing.ipynb#ch0000000?line=1'>2</a>\u001b[0m \u001b[39mfrom\u001b[39;00m \u001b[39mpyspark\u001b[39;00m\u001b[39m.\u001b[39;00m\u001b[39msql\u001b[39;00m\u001b[39m.\u001b[39;00m\u001b[39mtypes\u001b[39;00m \u001b[39mimport\u001b[39;00m StructType, StructField, StringType, IntegerType, DoubleType, DateType\n\u001b[0;32m      <a href='vscode-notebook-cell:/c%3A/Users/jtabo/Documents/sandbox/python/pySpark/furboh/testing.ipynb#ch0000000?line=4'>5</a>\u001b[0m spark \u001b[39m=\u001b[39m SparkSession\u001b[39m.\u001b[39mbuilder\u001b[39m.\u001b[39mmaster(\u001b[39m'\u001b[39m\u001b[39mlocal\u001b[39m\u001b[39m'\u001b[39m)\u001b[39m.\u001b[39mappName(\u001b[39m'\u001b[39m\u001b[39mTEST\u001b[39m\u001b[39m'\u001b[39m)\u001b[39m.\u001b[39mgetOrCreate()\n\u001b[1;32m----> <a href='vscode-notebook-cell:/c%3A/Users/jtabo/Documents/sandbox/python/pySpark/furboh/testing.ipynb#ch0000000?line=6'>7</a>\u001b[0m df_cards    \u001b[39m=\u001b[39m spark\u001b[39m.\u001b[39;49mread\u001b[39m.\u001b[39;49mcsv(\u001b[39m'\u001b[39;49m\u001b[39mcards.csv\u001b[39;49m\u001b[39m'\u001b[39;49m, sep\u001b[39m=\u001b[39;49m\u001b[39m'\u001b[39;49m\u001b[39m|\u001b[39;49m\u001b[39m'\u001b[39;49m, header\u001b[39m=\u001b[39;49m\u001b[39mTrue\u001b[39;49;00m, \n\u001b[0;32m      <a href='vscode-notebook-cell:/c%3A/Users/jtabo/Documents/sandbox/python/pySpark/furboh/testing.ipynb#ch0000000?line=7'>8</a>\u001b[0m                 schema\u001b[39m=\u001b[39;49m StructType([ \n\u001b[0;32m      <a href='vscode-notebook-cell:/c%3A/Users/jtabo/Documents/sandbox/python/pySpark/furboh/testing.ipynb#ch0000000?line=8'>9</a>\u001b[0m                         StructField(\u001b[39m'\u001b[39;49m\u001b[39mCP_CLIENTE\u001b[39;49m\u001b[39m'\u001b[39;49m    , IntegerType()), \n\u001b[0;32m     <a href='vscode-notebook-cell:/c%3A/Users/jtabo/Documents/sandbox/python/pySpark/furboh/testing.ipynb#ch0000000?line=9'>10</a>\u001b[0m                         StructField(\u001b[39m'\u001b[39;49m\u001b[39mCP_COMERCIO\u001b[39;49m\u001b[39m'\u001b[39;49m   , IntegerType()),\n\u001b[0;32m     <a href='vscode-notebook-cell:/c%3A/Users/jtabo/Documents/sandbox/python/pySpark/furboh/testing.ipynb#ch0000000?line=10'>11</a>\u001b[0m                         StructField(\u001b[39m'\u001b[39;49m\u001b[39mSECTOR\u001b[39;49m\u001b[39m'\u001b[39;49m        , StringType() ), \n\u001b[0;32m     <a href='vscode-notebook-cell:/c%3A/Users/jtabo/Documents/sandbox/python/pySpark/furboh/testing.ipynb#ch0000000?line=11'>12</a>\u001b[0m                         StructField(\u001b[39m'\u001b[39;49m\u001b[39mFECHA\u001b[39;49m\u001b[39m'\u001b[39;49m         , DateType()   ),   \u001b[39m# DIA as FECHA for easier join.\u001b[39;49;00m\n\u001b[0;32m     <a href='vscode-notebook-cell:/c%3A/Users/jtabo/Documents/sandbox/python/pySpark/furboh/testing.ipynb#ch0000000?line=12'>13</a>\u001b[0m                         StructField(\u001b[39m'\u001b[39;49m\u001b[39mFRANJA_HORARIA\u001b[39;49m\u001b[39m'\u001b[39;49m, StringType() ), \n\u001b[0;32m     <a href='vscode-notebook-cell:/c%3A/Users/jtabo/Documents/sandbox/python/pySpark/furboh/testing.ipynb#ch0000000?line=13'>14</a>\u001b[0m                         StructField(\u001b[39m'\u001b[39;49m\u001b[39mIMPORTE\u001b[39;49m\u001b[39m'\u001b[39;49m       , DoubleType() ),\n\u001b[0;32m     <a href='vscode-notebook-cell:/c%3A/Users/jtabo/Documents/sandbox/python/pySpark/furboh/testing.ipynb#ch0000000?line=14'>15</a>\u001b[0m                         StructField(\u001b[39m'\u001b[39;49m\u001b[39mNUM_OP\u001b[39;49m\u001b[39m'\u001b[39;49m        , IntegerType()) \n\u001b[0;32m     <a href='vscode-notebook-cell:/c%3A/Users/jtabo/Documents/sandbox/python/pySpark/furboh/testing.ipynb#ch0000000?line=15'>16</a>\u001b[0m                     ]))\n\u001b[0;32m     <a href='vscode-notebook-cell:/c%3A/Users/jtabo/Documents/sandbox/python/pySpark/furboh/testing.ipynb#ch0000000?line=17'>18</a>\u001b[0m df_weather  \u001b[39m=\u001b[39m spark\u001b[39m.\u001b[39mread\u001b[39m.\u001b[39mcsv(\u001b[39m'\u001b[39m\u001b[39mweather.csv\u001b[39m\u001b[39m'\u001b[39m, sep\u001b[39m=\u001b[39m\u001b[39m'\u001b[39m\u001b[39m;\u001b[39m\u001b[39m'\u001b[39m, header\u001b[39m=\u001b[39m\u001b[39mTrue\u001b[39;00m,\n\u001b[0;32m     <a href='vscode-notebook-cell:/c%3A/Users/jtabo/Documents/sandbox/python/pySpark/furboh/testing.ipynb#ch0000000?line=18'>19</a>\u001b[0m                 schema\u001b[39m=\u001b[39m StructType([ \n\u001b[0;32m     <a href='vscode-notebook-cell:/c%3A/Users/jtabo/Documents/sandbox/python/pySpark/furboh/testing.ipynb#ch0000000?line=19'>20</a>\u001b[0m                         StructField(\u001b[39m'\u001b[39m\u001b[39mFECHA\u001b[39m\u001b[39m'\u001b[39m     , DateType()   ),\n\u001b[1;32m   (...)\u001b[0m\n\u001b[0;32m     <a href='vscode-notebook-cell:/c%3A/Users/jtabo/Documents/sandbox/python/pySpark/furboh/testing.ipynb#ch0000000?line=33'>34</a>\u001b[0m                         StructField(\u001b[39m'\u001b[39m\u001b[39mETo\u001b[39m\u001b[39m'\u001b[39m       , DoubleType() )\n\u001b[0;32m     <a href='vscode-notebook-cell:/c%3A/Users/jtabo/Documents/sandbox/python/pySpark/furboh/testing.ipynb#ch0000000?line=34'>35</a>\u001b[0m                     ]))\n\u001b[0;32m     <a href='vscode-notebook-cell:/c%3A/Users/jtabo/Documents/sandbox/python/pySpark/furboh/testing.ipynb#ch0000000?line=36'>37</a>\u001b[0m df_cards\u001b[39m.\u001b[39mprintSchema()\n",
      "File \u001b[1;32mc:\\Users\\jtabo\\Documents\\sandbox\\python\\pySpark\\furboh\\football-spark-venv\\lib\\site-packages\\pyspark\\sql\\readwriter.py:535\u001b[0m, in \u001b[0;36mDataFrameReader.csv\u001b[1;34m(self, path, schema, sep, encoding, quote, escape, comment, header, inferSchema, ignoreLeadingWhiteSpace, ignoreTrailingWhiteSpace, nullValue, nanValue, positiveInf, negativeInf, dateFormat, timestampFormat, maxColumns, maxCharsPerColumn, maxMalformedLogPerPartition, mode, columnNameOfCorruptRecord, multiLine, charToEscapeQuoteEscaping, samplingRatio, enforceSchema, emptyValue, locale, lineSep, pathGlobFilter, recursiveFileLookup, modifiedBefore, modifiedAfter, unescapedQuoteHandling)\u001b[0m\n\u001b[0;32m    533\u001b[0m \u001b[39mif\u001b[39;00m \u001b[39mtype\u001b[39m(path) \u001b[39m==\u001b[39m \u001b[39mlist\u001b[39m:\n\u001b[0;32m    534\u001b[0m     \u001b[39massert\u001b[39;00m \u001b[39mself\u001b[39m\u001b[39m.\u001b[39m_spark\u001b[39m.\u001b[39m_sc\u001b[39m.\u001b[39m_jvm \u001b[39mis\u001b[39;00m \u001b[39mnot\u001b[39;00m \u001b[39mNone\u001b[39;00m\n\u001b[1;32m--> 535\u001b[0m     \u001b[39mreturn\u001b[39;00m \u001b[39mself\u001b[39m\u001b[39m.\u001b[39m_df(\u001b[39mself\u001b[39;49m\u001b[39m.\u001b[39;49m_jreader\u001b[39m.\u001b[39;49mcsv(\u001b[39mself\u001b[39;49m\u001b[39m.\u001b[39;49m_spark\u001b[39m.\u001b[39;49m_sc\u001b[39m.\u001b[39;49m_jvm\u001b[39m.\u001b[39;49mPythonUtils\u001b[39m.\u001b[39;49mtoSeq(path)))\n\u001b[0;32m    536\u001b[0m \u001b[39melif\u001b[39;00m \u001b[39misinstance\u001b[39m(path, RDD):\n\u001b[0;32m    538\u001b[0m     \u001b[39mdef\u001b[39;00m \u001b[39mfunc\u001b[39m(iterator):\n",
      "File \u001b[1;32mc:\\Users\\jtabo\\Documents\\sandbox\\python\\pySpark\\furboh\\football-spark-venv\\lib\\site-packages\\py4j\\java_gateway.py:1321\u001b[0m, in \u001b[0;36mJavaMember.__call__\u001b[1;34m(self, *args)\u001b[0m\n\u001b[0;32m   1315\u001b[0m command \u001b[39m=\u001b[39m proto\u001b[39m.\u001b[39mCALL_COMMAND_NAME \u001b[39m+\u001b[39m\\\n\u001b[0;32m   1316\u001b[0m     \u001b[39mself\u001b[39m\u001b[39m.\u001b[39mcommand_header \u001b[39m+\u001b[39m\\\n\u001b[0;32m   1317\u001b[0m     args_command \u001b[39m+\u001b[39m\\\n\u001b[0;32m   1318\u001b[0m     proto\u001b[39m.\u001b[39mEND_COMMAND_PART\n\u001b[0;32m   1320\u001b[0m answer \u001b[39m=\u001b[39m \u001b[39mself\u001b[39m\u001b[39m.\u001b[39mgateway_client\u001b[39m.\u001b[39msend_command(command)\n\u001b[1;32m-> 1321\u001b[0m return_value \u001b[39m=\u001b[39m get_return_value(\n\u001b[0;32m   1322\u001b[0m     answer, \u001b[39mself\u001b[39;49m\u001b[39m.\u001b[39;49mgateway_client, \u001b[39mself\u001b[39;49m\u001b[39m.\u001b[39;49mtarget_id, \u001b[39mself\u001b[39;49m\u001b[39m.\u001b[39;49mname)\n\u001b[0;32m   1324\u001b[0m \u001b[39mfor\u001b[39;00m temp_arg \u001b[39min\u001b[39;00m temp_args:\n\u001b[0;32m   1325\u001b[0m     temp_arg\u001b[39m.\u001b[39m_detach()\n",
      "File \u001b[1;32mc:\\Users\\jtabo\\Documents\\sandbox\\python\\pySpark\\furboh\\football-spark-venv\\lib\\site-packages\\pyspark\\sql\\utils.py:196\u001b[0m, in \u001b[0;36mcapture_sql_exception.<locals>.deco\u001b[1;34m(*a, **kw)\u001b[0m\n\u001b[0;32m    192\u001b[0m converted \u001b[39m=\u001b[39m convert_exception(e\u001b[39m.\u001b[39mjava_exception)\n\u001b[0;32m    193\u001b[0m \u001b[39mif\u001b[39;00m \u001b[39mnot\u001b[39;00m \u001b[39misinstance\u001b[39m(converted, UnknownException):\n\u001b[0;32m    194\u001b[0m     \u001b[39m# Hide where the exception came from that shows a non-Pythonic\u001b[39;00m\n\u001b[0;32m    195\u001b[0m     \u001b[39m# JVM exception message.\u001b[39;00m\n\u001b[1;32m--> 196\u001b[0m     \u001b[39mraise\u001b[39;00m converted \u001b[39mfrom\u001b[39;00m \u001b[39mNone\u001b[39m\n\u001b[0;32m    197\u001b[0m \u001b[39melse\u001b[39;00m:\n\u001b[0;32m    198\u001b[0m     \u001b[39mraise\u001b[39;00m\n",
      "\u001b[1;31mAnalysisException\u001b[0m: Path does not exist: file:/c:/Users/jtabo/Documents/sandbox/python/pySpark/furboh/cards.csv"
     ]
    }
   ],
   "source": [
    "from flask import Flask, make_response, request\n",
    "from flask_caching import Cache\n",
    "from pyspark.sql import SparkSession, DataFrame, DataFrameReader\n",
    "from pyspark.sql.types import StructType, StructField, IntegerType, StringType, FloatType\n",
    "from pyspark.sql.functions import col, last, sum, avg, count\n",
    "\n",
    "from pyspark.sql.window import Window\n",
    "from pyspark.sql.functions import row_number, collect_set, dense_rank, expr, round\n",
    "\n",
    "import pandas as pd\n",
    "\n",
    "from util.databridge import Databridge\n",
    "from transform.penalty_cards_agg import penalty_cards_agg\n",
    "import schema.data_structs as schema\n",
    "import data.paths as data_routes"
   ]
  },
  {
   "cell_type": "code",
   "execution_count": null,
   "metadata": {},
   "outputs": [],
   "source": [
    "data = Databridge(data_location='local[8]', name='API')\n",
    "reader = data.get_reader()\n",
    "\n",
    "mrkt_val = pd.read_excel(data_routes.akarsh_mrkt_val, sheet_name='Sheet1').fillna('N/A')\n",
    "data.add_dataframe(mrkt_val, 'akarsh_mrkt_val')\n",
    "\n",
    "data.add_dataframes([\n",
    "    (\n",
    "        reader.csv(\n",
    "            data_routes.trmkt_appearences,\n",
    "            header=True,\n",
    "            schema=schema.trmkt_appearences\n",
    "        ),\n",
    "        'trmkt_appearences'\n",
    "    ),\n",
    "    (\n",
    "        reader.csv(\n",
    "            data_routes.trmkt_clubs,\n",
    "            header=True,\n",
    "            schema=schema.trmkt_clubs\n",
    "        ),\n",
    "        'trmkt_clubs'\n",
    "    ),\n",
    "    (\n",
    "        reader.csv(\n",
    "            data_routes.trmkt_competitions,\n",
    "            header=True,\n",
    "            schema=schema.trmkt_competitions\n",
    "        ),\n",
    "        'trmkt_competitions'\n",
    "    ),   \n",
    "    (\n",
    "        reader.csv(\n",
    "            data_routes.trmkt_games,\n",
    "            header=True,\n",
    "            schema=schema.trmkt_games\n",
    "        ),\n",
    "        'trmkt_games'\n",
    "    ),\n",
    "    (\n",
    "        reader.csv(\n",
    "            data_routes.trmkt_leagues,\n",
    "            header=True,\n",
    "            schema=schema.trmkt_leagues\n",
    "        ),\n",
    "        'trmkt_leagues'\n",
    "    ),\n",
    "    (\n",
    "        reader.csv(\n",
    "            data_routes.trmkt_players,\n",
    "            header=True,\n",
    "            schema=schema.trmkt_players\n",
    "        ),\n",
    "        'trmkt_players'\n",
    "    ),\n",
    "    (\n",
    "        reader.csv(\n",
    "            data_routes.tech_players,\n",
    "            header=True,\n",
    "            schema=schema.tech_players\n",
    "        ),\n",
    "        'tech_players'\n",
    "    ),\n",
    "    (\n",
    "        reader.csv(\n",
    "            data_routes.tech_shots,\n",
    "            header=True,\n",
    "            schema=schema.tech_shots\n",
    "        ),\n",
    "        'tech_shots'\n",
    "    ),\n",
    "])\n",
    "\n",
    "#for df, key in data.get_dataframes():\n",
    "#    df.printSchema()"
   ]
  },
  {
   "cell_type": "code",
   "execution_count": 1,
   "metadata": {},
   "outputs": [
    {
     "name": "stdout",
     "output_type": "stream",
     "text": [
      "asd 123\n",
      "ad 23\n",
      "sd 12\n",
      "as 13\n"
     ]
    }
   ],
   "source": [
    "shots_df = data.get_dataframe('tech_shots')\n",
    "\n",
    "\n",
    "shots_df.select(\n",
    "    'playerID',\n",
    "    'situation',\n",
    "#   'lastAction',\n",
    "#   'shotType',\n",
    "    'shotResult',\n",
    ").where('situation == \"DirectFreekick\"') \\\n",
    ".groupBy('playerID') \\\n",
    ".pivot('shotResult').agg(count('*')) \\\n",
    ".where(col('Goal').isNotNull()) \\\n",
    ".withColumn(\n",
    "    'goal_percentage',\n",
    "    expr('Goal / (Goal + MissedShots + SavedShot + ShotOnPost) ')\n",
    ") \\\n",
    ".join(data.get_dataframe('tech_players'), 'playerID') \\\n",
    ".orderBy('Goal', ascending=False).show(5)"
   ]
  },
  {
   "cell_type": "code",
   "execution_count": null,
   "metadata": {},
   "outputs": [],
   "source": [
    "vals = data.get_dataframe('akarsh_mrkt_val')\n",
    "\n",
    "vals[vals.Player.isin(['Kylian Mbappé'])]"
   ]
  },
  {
   "cell_type": "code",
   "execution_count": null,
   "metadata": {},
   "outputs": [],
   "source": [
    "import json \n",
    "\n",
    "player_app_df = data.join_stored('trmkt_appearences', 'trmkt_players', 'player_id')\n",
    "\n",
    "sums = [\n",
    "    sum(\"yellow_cards\"), \n",
    "    sum('red_cards'),\n",
    "]\n",
    "\n",
    "str_list = player_app_df.select(\n",
    "    'player_id',\n",
    "    'yellow_cards',\n",
    "    'red_cards',\n",
    "    'minutes_played',\n",
    "    'position',\n",
    "    'sub_position'\n",
    ").where('position == \"Defender\"') \\\n",
    ".groupBy('player_id') \\\n",
    ".agg(\n",
    "    last('position'),\n",
    "    last('sub_position'), \n",
    "    *sums,\n",
    "    avg('minutes_played'),\n",
    "    count('player_id').alias('n_games')\n",
    ").orderBy('sum(yellow_cards)', ascending=False).toPandas().set_index(\"player_id\").to_json(orient=\"index\")\n",
    "\n",
    "str_list[:200]"
   ]
  },
  {
   "cell_type": "code",
   "execution_count": null,
   "metadata": {},
   "outputs": [],
   "source": [
    "json_str = '['+','.join(str_list)+']'\n",
    "\n",
    "json_obj = json.loads(json_str)"
   ]
  },
  {
   "cell_type": "code",
   "execution_count": null,
   "metadata": {},
   "outputs": [],
   "source": [
    "test = [\n",
    "    (\"asd\", 123),\n",
    "    (\"ad\", 23),\n",
    "    (\"sd\", 12),\n",
    "    (\"as\", 13),\n",
    "]\n",
    "\n",
    "for id, num in test:\n",
    "    print(id, num)"
   ]
  },
  {
   "cell_type": "code",
   "execution_count": null,
   "metadata": {},
   "outputs": [],
   "source": [
    "mape = {\n",
    "    \"id\"    : 12,\n",
    "    \"as\"    : 213,\n",
    "    \"asdd\"  : 123    \n",
    "}\n",
    "\n",
    "[(thing, mape[thing]) for thing in mape]"
   ]
  }
 ],
 "metadata": {
  "kernelspec": {
   "display_name": "football-spark-venv",
   "language": "python",
   "name": "football-spark-venv"
  },
  "language_info": {
   "codemirror_mode": {
    "name": "ipython",
    "version": 3
   },
   "file_extension": ".py",
   "mimetype": "text/x-python",
   "name": "python",
   "nbconvert_exporter": "python",
   "pygments_lexer": "ipython3",
   "version": "3.10.5"
  },
  "orig_nbformat": 4,
  "vscode": {
   "interpreter": {
    "hash": "6f0bd03cbeb5a1636823079604d3f3fdd20cac66e4b3baf84d6a6f3fe8cf4933"
   }
  }
 },
 "nbformat": 4,
 "nbformat_minor": 2
}
