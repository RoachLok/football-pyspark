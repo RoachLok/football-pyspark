{
 "cells": [
  {
   "cell_type": "code",
   "execution_count": 1,
   "metadata": {},
   "outputs": [
    {
     "ename": "AnalysisException",
     "evalue": "Path does not exist: file:/c:/Users/jtabo/Documents/sandbox/python/pySpark/furboh/cards.csv",
     "output_type": "error",
     "traceback": [
      "\u001b[1;31m---------------------------------------------------------------------------\u001b[0m",
      "\u001b[1;31mAnalysisException\u001b[0m                         Traceback (most recent call last)",
      "\u001b[1;32mc:\\Users\\jtabo\\Documents\\sandbox\\python\\pySpark\\furboh\\testing.ipynb Cell 1'\u001b[0m in \u001b[0;36m<cell line: 7>\u001b[1;34m()\u001b[0m\n\u001b[0;32m      <a href='vscode-notebook-cell:/c%3A/Users/jtabo/Documents/sandbox/python/pySpark/furboh/testing.ipynb#ch0000000?line=1'>2</a>\u001b[0m \u001b[39mfrom\u001b[39;00m \u001b[39mpyspark\u001b[39;00m\u001b[39m.\u001b[39;00m\u001b[39msql\u001b[39;00m\u001b[39m.\u001b[39;00m\u001b[39mtypes\u001b[39;00m \u001b[39mimport\u001b[39;00m StructType, StructField, StringType, IntegerType, DoubleType, DateType\n\u001b[0;32m      <a href='vscode-notebook-cell:/c%3A/Users/jtabo/Documents/sandbox/python/pySpark/furboh/testing.ipynb#ch0000000?line=4'>5</a>\u001b[0m spark \u001b[39m=\u001b[39m SparkSession\u001b[39m.\u001b[39mbuilder\u001b[39m.\u001b[39mmaster(\u001b[39m'\u001b[39m\u001b[39mlocal\u001b[39m\u001b[39m'\u001b[39m)\u001b[39m.\u001b[39mappName(\u001b[39m'\u001b[39m\u001b[39mTEST\u001b[39m\u001b[39m'\u001b[39m)\u001b[39m.\u001b[39mgetOrCreate()\n\u001b[1;32m----> <a href='vscode-notebook-cell:/c%3A/Users/jtabo/Documents/sandbox/python/pySpark/furboh/testing.ipynb#ch0000000?line=6'>7</a>\u001b[0m df_cards    \u001b[39m=\u001b[39m spark\u001b[39m.\u001b[39;49mread\u001b[39m.\u001b[39;49mcsv(\u001b[39m'\u001b[39;49m\u001b[39mcards.csv\u001b[39;49m\u001b[39m'\u001b[39;49m, sep\u001b[39m=\u001b[39;49m\u001b[39m'\u001b[39;49m\u001b[39m|\u001b[39;49m\u001b[39m'\u001b[39;49m, header\u001b[39m=\u001b[39;49m\u001b[39mTrue\u001b[39;49;00m, \n\u001b[0;32m      <a href='vscode-notebook-cell:/c%3A/Users/jtabo/Documents/sandbox/python/pySpark/furboh/testing.ipynb#ch0000000?line=7'>8</a>\u001b[0m                 schema\u001b[39m=\u001b[39;49m StructType([ \n\u001b[0;32m      <a href='vscode-notebook-cell:/c%3A/Users/jtabo/Documents/sandbox/python/pySpark/furboh/testing.ipynb#ch0000000?line=8'>9</a>\u001b[0m                         StructField(\u001b[39m'\u001b[39;49m\u001b[39mCP_CLIENTE\u001b[39;49m\u001b[39m'\u001b[39;49m    , IntegerType()), \n\u001b[0;32m     <a href='vscode-notebook-cell:/c%3A/Users/jtabo/Documents/sandbox/python/pySpark/furboh/testing.ipynb#ch0000000?line=9'>10</a>\u001b[0m                         StructField(\u001b[39m'\u001b[39;49m\u001b[39mCP_COMERCIO\u001b[39;49m\u001b[39m'\u001b[39;49m   , IntegerType()),\n\u001b[0;32m     <a href='vscode-notebook-cell:/c%3A/Users/jtabo/Documents/sandbox/python/pySpark/furboh/testing.ipynb#ch0000000?line=10'>11</a>\u001b[0m                         StructField(\u001b[39m'\u001b[39;49m\u001b[39mSECTOR\u001b[39;49m\u001b[39m'\u001b[39;49m        , StringType() ), \n\u001b[0;32m     <a href='vscode-notebook-cell:/c%3A/Users/jtabo/Documents/sandbox/python/pySpark/furboh/testing.ipynb#ch0000000?line=11'>12</a>\u001b[0m                         StructField(\u001b[39m'\u001b[39;49m\u001b[39mFECHA\u001b[39;49m\u001b[39m'\u001b[39;49m         , DateType()   ),   \u001b[39m# DIA as FECHA for easier join.\u001b[39;49;00m\n\u001b[0;32m     <a href='vscode-notebook-cell:/c%3A/Users/jtabo/Documents/sandbox/python/pySpark/furboh/testing.ipynb#ch0000000?line=12'>13</a>\u001b[0m                         StructField(\u001b[39m'\u001b[39;49m\u001b[39mFRANJA_HORARIA\u001b[39;49m\u001b[39m'\u001b[39;49m, StringType() ), \n\u001b[0;32m     <a href='vscode-notebook-cell:/c%3A/Users/jtabo/Documents/sandbox/python/pySpark/furboh/testing.ipynb#ch0000000?line=13'>14</a>\u001b[0m                         StructField(\u001b[39m'\u001b[39;49m\u001b[39mIMPORTE\u001b[39;49m\u001b[39m'\u001b[39;49m       , DoubleType() ),\n\u001b[0;32m     <a href='vscode-notebook-cell:/c%3A/Users/jtabo/Documents/sandbox/python/pySpark/furboh/testing.ipynb#ch0000000?line=14'>15</a>\u001b[0m                         StructField(\u001b[39m'\u001b[39;49m\u001b[39mNUM_OP\u001b[39;49m\u001b[39m'\u001b[39;49m        , IntegerType()) \n\u001b[0;32m     <a href='vscode-notebook-cell:/c%3A/Users/jtabo/Documents/sandbox/python/pySpark/furboh/testing.ipynb#ch0000000?line=15'>16</a>\u001b[0m                     ]))\n\u001b[0;32m     <a href='vscode-notebook-cell:/c%3A/Users/jtabo/Documents/sandbox/python/pySpark/furboh/testing.ipynb#ch0000000?line=17'>18</a>\u001b[0m df_weather  \u001b[39m=\u001b[39m spark\u001b[39m.\u001b[39mread\u001b[39m.\u001b[39mcsv(\u001b[39m'\u001b[39m\u001b[39mweather.csv\u001b[39m\u001b[39m'\u001b[39m, sep\u001b[39m=\u001b[39m\u001b[39m'\u001b[39m\u001b[39m;\u001b[39m\u001b[39m'\u001b[39m, header\u001b[39m=\u001b[39m\u001b[39mTrue\u001b[39;00m,\n\u001b[0;32m     <a href='vscode-notebook-cell:/c%3A/Users/jtabo/Documents/sandbox/python/pySpark/furboh/testing.ipynb#ch0000000?line=18'>19</a>\u001b[0m                 schema\u001b[39m=\u001b[39m StructType([ \n\u001b[0;32m     <a href='vscode-notebook-cell:/c%3A/Users/jtabo/Documents/sandbox/python/pySpark/furboh/testing.ipynb#ch0000000?line=19'>20</a>\u001b[0m                         StructField(\u001b[39m'\u001b[39m\u001b[39mFECHA\u001b[39m\u001b[39m'\u001b[39m     , DateType()   ),\n\u001b[1;32m   (...)\u001b[0m\n\u001b[0;32m     <a href='vscode-notebook-cell:/c%3A/Users/jtabo/Documents/sandbox/python/pySpark/furboh/testing.ipynb#ch0000000?line=33'>34</a>\u001b[0m                         StructField(\u001b[39m'\u001b[39m\u001b[39mETo\u001b[39m\u001b[39m'\u001b[39m       , DoubleType() )\n\u001b[0;32m     <a href='vscode-notebook-cell:/c%3A/Users/jtabo/Documents/sandbox/python/pySpark/furboh/testing.ipynb#ch0000000?line=34'>35</a>\u001b[0m                     ]))\n\u001b[0;32m     <a href='vscode-notebook-cell:/c%3A/Users/jtabo/Documents/sandbox/python/pySpark/furboh/testing.ipynb#ch0000000?line=36'>37</a>\u001b[0m df_cards\u001b[39m.\u001b[39mprintSchema()\n",
      "File \u001b[1;32mc:\\Users\\jtabo\\Documents\\sandbox\\python\\pySpark\\furboh\\football-spark-venv\\lib\\site-packages\\pyspark\\sql\\readwriter.py:535\u001b[0m, in \u001b[0;36mDataFrameReader.csv\u001b[1;34m(self, path, schema, sep, encoding, quote, escape, comment, header, inferSchema, ignoreLeadingWhiteSpace, ignoreTrailingWhiteSpace, nullValue, nanValue, positiveInf, negativeInf, dateFormat, timestampFormat, maxColumns, maxCharsPerColumn, maxMalformedLogPerPartition, mode, columnNameOfCorruptRecord, multiLine, charToEscapeQuoteEscaping, samplingRatio, enforceSchema, emptyValue, locale, lineSep, pathGlobFilter, recursiveFileLookup, modifiedBefore, modifiedAfter, unescapedQuoteHandling)\u001b[0m\n\u001b[0;32m    533\u001b[0m \u001b[39mif\u001b[39;00m \u001b[39mtype\u001b[39m(path) \u001b[39m==\u001b[39m \u001b[39mlist\u001b[39m:\n\u001b[0;32m    534\u001b[0m     \u001b[39massert\u001b[39;00m \u001b[39mself\u001b[39m\u001b[39m.\u001b[39m_spark\u001b[39m.\u001b[39m_sc\u001b[39m.\u001b[39m_jvm \u001b[39mis\u001b[39;00m \u001b[39mnot\u001b[39;00m \u001b[39mNone\u001b[39;00m\n\u001b[1;32m--> 535\u001b[0m     \u001b[39mreturn\u001b[39;00m \u001b[39mself\u001b[39m\u001b[39m.\u001b[39m_df(\u001b[39mself\u001b[39;49m\u001b[39m.\u001b[39;49m_jreader\u001b[39m.\u001b[39;49mcsv(\u001b[39mself\u001b[39;49m\u001b[39m.\u001b[39;49m_spark\u001b[39m.\u001b[39;49m_sc\u001b[39m.\u001b[39;49m_jvm\u001b[39m.\u001b[39;49mPythonUtils\u001b[39m.\u001b[39;49mtoSeq(path)))\n\u001b[0;32m    536\u001b[0m \u001b[39melif\u001b[39;00m \u001b[39misinstance\u001b[39m(path, RDD):\n\u001b[0;32m    538\u001b[0m     \u001b[39mdef\u001b[39;00m \u001b[39mfunc\u001b[39m(iterator):\n",
      "File \u001b[1;32mc:\\Users\\jtabo\\Documents\\sandbox\\python\\pySpark\\furboh\\football-spark-venv\\lib\\site-packages\\py4j\\java_gateway.py:1321\u001b[0m, in \u001b[0;36mJavaMember.__call__\u001b[1;34m(self, *args)\u001b[0m\n\u001b[0;32m   1315\u001b[0m command \u001b[39m=\u001b[39m proto\u001b[39m.\u001b[39mCALL_COMMAND_NAME \u001b[39m+\u001b[39m\\\n\u001b[0;32m   1316\u001b[0m     \u001b[39mself\u001b[39m\u001b[39m.\u001b[39mcommand_header \u001b[39m+\u001b[39m\\\n\u001b[0;32m   1317\u001b[0m     args_command \u001b[39m+\u001b[39m\\\n\u001b[0;32m   1318\u001b[0m     proto\u001b[39m.\u001b[39mEND_COMMAND_PART\n\u001b[0;32m   1320\u001b[0m answer \u001b[39m=\u001b[39m \u001b[39mself\u001b[39m\u001b[39m.\u001b[39mgateway_client\u001b[39m.\u001b[39msend_command(command)\n\u001b[1;32m-> 1321\u001b[0m return_value \u001b[39m=\u001b[39m get_return_value(\n\u001b[0;32m   1322\u001b[0m     answer, \u001b[39mself\u001b[39;49m\u001b[39m.\u001b[39;49mgateway_client, \u001b[39mself\u001b[39;49m\u001b[39m.\u001b[39;49mtarget_id, \u001b[39mself\u001b[39;49m\u001b[39m.\u001b[39;49mname)\n\u001b[0;32m   1324\u001b[0m \u001b[39mfor\u001b[39;00m temp_arg \u001b[39min\u001b[39;00m temp_args:\n\u001b[0;32m   1325\u001b[0m     temp_arg\u001b[39m.\u001b[39m_detach()\n",
      "File \u001b[1;32mc:\\Users\\jtabo\\Documents\\sandbox\\python\\pySpark\\furboh\\football-spark-venv\\lib\\site-packages\\pyspark\\sql\\utils.py:196\u001b[0m, in \u001b[0;36mcapture_sql_exception.<locals>.deco\u001b[1;34m(*a, **kw)\u001b[0m\n\u001b[0;32m    192\u001b[0m converted \u001b[39m=\u001b[39m convert_exception(e\u001b[39m.\u001b[39mjava_exception)\n\u001b[0;32m    193\u001b[0m \u001b[39mif\u001b[39;00m \u001b[39mnot\u001b[39;00m \u001b[39misinstance\u001b[39m(converted, UnknownException):\n\u001b[0;32m    194\u001b[0m     \u001b[39m# Hide where the exception came from that shows a non-Pythonic\u001b[39;00m\n\u001b[0;32m    195\u001b[0m     \u001b[39m# JVM exception message.\u001b[39;00m\n\u001b[1;32m--> 196\u001b[0m     \u001b[39mraise\u001b[39;00m converted \u001b[39mfrom\u001b[39;00m \u001b[39mNone\u001b[39m\n\u001b[0;32m    197\u001b[0m \u001b[39melse\u001b[39;00m:\n\u001b[0;32m    198\u001b[0m     \u001b[39mraise\u001b[39;00m\n",
      "\u001b[1;31mAnalysisException\u001b[0m: Path does not exist: file:/c:/Users/jtabo/Documents/sandbox/python/pySpark/furboh/cards.csv"
     ]
    }
   ],
   "source": [
    "from pyspark.sql import SparkSession, functions\n",
    "from pyspark.sql.types import StructType, StructField, StringType, IntegerType, DoubleType, DateType\n",
    "\n",
    "\n",
    "spark = SparkSession.builder.master('local').appName('TEST').getOrCreate()\n",
    "\n",
    "df_cards    = spark.read.csv('cards.csv', sep='|', header=True, \n",
    "                schema= StructType([ \n",
    "                        StructField('CP_CLIENTE'    , IntegerType()), \n",
    "                        StructField('CP_COMERCIO'   , IntegerType()),\n",
    "                        StructField('SECTOR'        , StringType() ), \n",
    "                        StructField('FECHA'         , DateType()   ),   # DIA as FECHA for easier join.\n",
    "                        StructField('FRANJA_HORARIA', StringType() ), \n",
    "                        StructField('IMPORTE'       , DoubleType() ),\n",
    "                        StructField('NUM_OP'        , IntegerType()) \n",
    "                    ]))\n",
    "\n",
    "df_weather  = spark.read.csv('weather.csv', sep=';', header=True,\n",
    "                schema= StructType([ \n",
    "                        StructField('FECHA'     , DateType()   ),\n",
    "                        StructField('DIA'       , IntegerType()),\n",
    "                        StructField('TMax'      , DoubleType() ),\n",
    "                        StructField('HTMax'     , DoubleType() ),\n",
    "                        StructField('TMin'      , DoubleType() ),\n",
    "                        StructField('HTMin'     , DoubleType() ),\n",
    "                        StructField('TMed'      , DoubleType() ),\n",
    "                        StructField('HumMax'    , DoubleType() ),\n",
    "                        StructField('HumMin'    , DoubleType() ),\n",
    "                        StructField('HumMed'    , DoubleType() ),\n",
    "                        StructField('VelViento' , DoubleType() ),\n",
    "                        StructField('DirViento' , DoubleType() ),\n",
    "                        StructField('Rad'       , DoubleType() ),\n",
    "                        StructField('Precip'    , DoubleType() ),\n",
    "                        StructField('ETo'       , DoubleType() )\n",
    "                    ]))\n",
    "\n",
    "df_cards.printSchema()\n",
    "df_weather.printSchema()"
   ]
  },
  {
   "cell_type": "code",
   "execution_count": null,
   "metadata": {},
   "outputs": [],
   "source": [
    "def foo(s : list[str]):\n",
    "    pass"
   ]
  },
  {
   "cell_type": "code",
   "execution_count": 1,
   "metadata": {},
   "outputs": [
    {
     "name": "stdout",
     "output_type": "stream",
     "text": [
      "asd 123\n",
      "ad 23\n",
      "sd 12\n",
      "as 13\n"
     ]
    }
   ],
   "source": [
    "test = [\n",
    "    (\"asd\", 123),\n",
    "    (\"ad\", 23),\n",
    "    (\"sd\", 12),\n",
    "    (\"as\", 13),\n",
    "]\n",
    "\n",
    "for id, num in test:\n",
    "    print(id, num)"
   ]
  }
 ],
 "metadata": {
  "kernelspec": {
   "display_name": "football-spark-venv",
   "language": "python",
   "name": "football-spark-venv"
  },
  "language_info": {
   "codemirror_mode": {
    "name": "ipython",
    "version": 3
   },
   "file_extension": ".py",
   "mimetype": "text/x-python",
   "name": "python",
   "nbconvert_exporter": "python",
   "pygments_lexer": "ipython3",
   "version": "3.10.5"
  },
  "orig_nbformat": 4,
  "vscode": {
   "interpreter": {
    "hash": "6f0bd03cbeb5a1636823079604d3f3fdd20cac66e4b3baf84d6a6f3fe8cf4933"
   }
  }
 },
 "nbformat": 4,
 "nbformat_minor": 2
}
